{
 "cells": [
  {
   "cell_type": "markdown",
   "metadata": {},
   "source": [
    "# Jetson nanoを使って姿勢推定する"
   ]
  },
  {
   "cell_type": "markdown",
   "metadata": {},
   "source": [
    "## 参考\n",
    "  \n",
    "https://courses.nvidia.com/courses/course-v1:DLI+C-RX-02+V1/about  \n",
    "  \n",
    "https://karaage.hatenadiary.jp/entry/2019/08/19/073000  \n",
    "  \n",
    "https://qiita.com/karaage0703/items/0583528f1f9c34911a31  \n",
    "  \n",
    "\n",
    "https://qiita.com/tomo_makes/items/859c4f8aa71d3209d591  \n",
    "  \n",
    "\n"
   ]
  },
  {
   "cell_type": "code",
   "execution_count": null,
   "metadata": {},
   "outputs": [],
   "source": []
  },
  {
   "cell_type": "markdown",
   "metadata": {},
   "source": [
    "## セットアップ手順\n",
    "\n",
    "\n",
    "OSイメージをダウンロードする  \n",
    "ファイルサイズ7.4GB（2019.11.24時点） ダウンロードに15分くらい掛かる  \n",
    "https://github.com/NVIDIA-AI-IOT/jetcard  \n",
    "  \n",
    "SDカードをフォーマットする   \n",
    "https://www.balena.io/etcher/  \n",
    "  \n",
    "OSイメージをSDカードに書き込む  \n",
    "  \n",
    "  \n",
    "Jetoson　Nano にSDカードをセット、起動させる  \n",
    "  \n",
    "OS設定をする  \n",
    "  \n"
   ]
  },
  {
   "cell_type": "code",
   "execution_count": null,
   "metadata": {},
   "outputs": [],
   "source": []
  },
  {
   "cell_type": "code",
   "execution_count": null,
   "metadata": {},
   "outputs": [],
   "source": []
  },
  {
   "cell_type": "code",
   "execution_count": null,
   "metadata": {},
   "outputs": [],
   "source": []
  },
  {
   "cell_type": "code",
   "execution_count": null,
   "metadata": {},
   "outputs": [],
   "source": []
  },
  {
   "cell_type": "code",
   "execution_count": null,
   "metadata": {},
   "outputs": [],
   "source": []
  }
 ],
 "metadata": {
  "kernelspec": {
   "display_name": "Python 3",
   "language": "python",
   "name": "python3"
  },
  "language_info": {
   "codemirror_mode": {
    "name": "ipython",
    "version": 3
   },
   "file_extension": ".py",
   "mimetype": "text/x-python",
   "name": "python",
   "nbconvert_exporter": "python",
   "pygments_lexer": "ipython3",
   "version": "3.7.3"
  }
 },
 "nbformat": 4,
 "nbformat_minor": 2
}
