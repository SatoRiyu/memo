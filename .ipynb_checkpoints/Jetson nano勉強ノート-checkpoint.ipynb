{
 "cells": [
  {
   "cell_type": "markdown",
   "metadata": {},
   "source": [
    "# Jetson nanoを使って姿勢推定する"
   ]
  },
  {
   "cell_type": "markdown",
   "metadata": {},
   "source": [
    "## 参考\n",
    "  \n",
    "https://courses.nvidia.com/courses/course-v1:DLI+C-RX-02+V1/about  \n",
    "  \n",
    "https://karaage.hatenadiary.jp/entry/2019/08/19/073000  \n",
    "  \n",
    "https://qiita.com/karaage0703/items/0583528f1f9c34911a31  \n",
    "  \n",
    "\n",
    "https://qiita.com/tomo_makes/items/859c4f8aa71d3209d591  \n",
    "  \n",
    "\n"
   ]
  },
  {
   "cell_type": "code",
   "execution_count": null,
   "metadata": {},
   "outputs": [],
   "source": []
  },
  {
   "cell_type": "markdown",
   "metadata": {},
   "source": [
    "## セットアップ手順\n",
    "\n",
    "SDカードをフォーマットするソフトをダウンロードする  \n",
    "https://www.sdcard.org/jp/downloads/formatter/\n",
    "\n",
    "OSイメージをダウンロードする  \n",
    "ファイルサイズ7.4GB（2019.11.24時点） ダウンロードに20〜30分くらい掛かる  \n",
    "https://github.com/NVIDIA-AI-IOT/jetcard  \n",
    "\n",
    "OSイメージを書き込むソフトをダウンロードする  \n",
    "https://www.balena.io/etcher/  \n",
    "\n",
    "\n",
    "ダウンロード待ちの間に本体にファンを取り付け、ケースを組み立てる\n",
    "ファンを取り付ける際、コードがヒートシンクの間を通れるようにする。\n",
    "ケース上部の切り口に余裕がないため。\n",
    "\n",
    "\n",
    "SDカードをフォーマットする   \n",
    "\n",
    "  \n",
    "OSイメージをSDカードに書き込む  \n",
    "結構時間掛かる  \n",
    "  \n",
    "Jetoson　Nano にSDカードをセット、起動させる  \n",
    "  \n",
    "OS設定をする  \n",
    "\n",
    "wifiの子機を認識させるのに手間が掛かる  \n",
    "ネットを彷徨った結果、ドライバーはシステム設定から追加できるという原点回帰に至る。   \n",
    "だがしかし、ドライバーをインストールしてもネットワークに繋がらない。  \n",
    "うちのネットワークを見つけ出せない。  \n",
    "ネットワークマネージャーをアップデートするという案を思いつく。←今ここ  \n",
    "\n",
    "```\n",
    "sudo apt update  \n",
    "sudo apt install netowork-manager  \n",
    "sudo service NetworkManager start  \n",
    "```\n",
    "\n",
    "Out of range  "
   ]
  },
  {
   "cell_type": "code",
   "execution_count": null,
   "metadata": {},
   "outputs": [],
   "source": []
  },
  {
   "cell_type": "code",
   "execution_count": null,
   "metadata": {},
   "outputs": [],
   "source": []
  },
  {
   "cell_type": "code",
   "execution_count": null,
   "metadata": {},
   "outputs": [],
   "source": []
  },
  {
   "cell_type": "code",
   "execution_count": null,
   "metadata": {},
   "outputs": [],
   "source": []
  },
  {
   "cell_type": "code",
   "execution_count": null,
   "metadata": {},
   "outputs": [],
   "source": []
  }
 ],
 "metadata": {
  "kernelspec": {
   "display_name": "Python 3",
   "language": "python",
   "name": "python3"
  },
  "language_info": {
   "codemirror_mode": {
    "name": "ipython",
    "version": 3
   },
   "file_extension": ".py",
   "mimetype": "text/x-python",
   "name": "python",
   "nbconvert_exporter": "python",
   "pygments_lexer": "ipython3",
   "version": "3.7.3"
  }
 },
 "nbformat": 4,
 "nbformat_minor": 2
}
