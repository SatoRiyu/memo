{
 "cells": [
  {
   "cell_type": "markdown",
   "metadata": {},
   "source": [
    "# EDAについて"
   ]
  },
  {
   "cell_type": "markdown",
   "metadata": {},
   "source": [
    "Exploratory Data Analysis  \n",
    "EDAの定石や便利なライブラリについて、調べてまとめる。"
   ]
  },
  {
   "cell_type": "markdown",
   "metadata": {},
   "source": [
    "## 参考\n",
    "\n",
    "[【データサイエンティスト入門編】探索的データ解析（EDA）の基礎操作をPythonを使ってやってみよう](https://www.codexa.net/basic-exploratory-data-analysis-with-python/)  \n",
    "[データ分析のプロセスにおけるEDA、データ前処理、特徴エンジニアリング、特徴量重要度抽出に関するまとめ](https://qiita.com/masa26hiro/items/ce5f60e2950e072a0910)  \n",
    "[【Pythonメモ】pandas-profilingが探索的データ解析にめちゃめちゃ便利だった件](https://qiita.com/h_kobayashi1125/items/02039e57a656abe8c48f)  \n",
    "[]()  \n",
    "[]()  \n",
    "[]()  "
   ]
  },
  {
   "cell_type": "markdown",
   "metadata": {},
   "source": [
    "## DICノート（プライベートリポジトリ）　　\n",
    "  \n",
    "[解答例：Week3 授業前課題1 アヤメの分析](https://github.com/SatoRiyu/study/blob/master/DIC/example_answer_week3_work1.ipynb)  \n",
    "[解答例：Week3 授業前課題2 住宅情報の分析](https://github.com/SatoRiyu/study/blob/master/DIC/example_answer_week3_work2.ipynb)  \n",
    "[解答例：Week4授業前課題1 アヤメの分類](https://github.com/SatoRiyu/study/blob/master/DIC/example_answer_week4_work1.ipynb)  \n",
    "[解答例：Week4授業前課題2 住宅価格の予測](https://github.com/SatoRiyu/study/blob/master/DIC/example_ansswer_week4_work2.ipynb)  \n",
    "[解答例：Week4授業前課題3 オブジェクト指向の活用](https://github.com/SatoRiyu/study/blob/master/DIC/example_ansswer_week4_work3.ipynb)  \n"
   ]
  },
  {
   "cell_type": "code",
   "execution_count": null,
   "metadata": {},
   "outputs": [],
   "source": []
  }
 ],
 "metadata": {
  "kernelspec": {
   "display_name": "Python 3",
   "language": "python",
   "name": "python3"
  },
  "language_info": {
   "codemirror_mode": {
    "name": "ipython",
    "version": 3
   },
   "file_extension": ".py",
   "mimetype": "text/x-python",
   "name": "python",
   "nbconvert_exporter": "python",
   "pygments_lexer": "ipython3",
   "version": "3.7.3"
  }
 },
 "nbformat": 4,
 "nbformat_minor": 2
}
