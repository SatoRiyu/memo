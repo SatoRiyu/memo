{
 "cells": [
  {
   "cell_type": "markdown",
   "metadata": {},
   "source": [
    "# IoT勉強ノート（仮）"
   ]
  },
  {
   "cell_type": "markdown",
   "metadata": {},
   "source": [
    "IoT検定受けるなら、シラバスを確認しておくべきか。  \n",
    "  \n",
    "[IoT検定スキルマップ(β版)　ユーザー試験（パワー・ユーザー）](http://www.iotcert.org/wp-content/uploads/2018/11/bb76e4f24e10b38de9e04d23086e8498.pdf)  \n",
    "[IoT検定スキルマップVer1.0　レベル１試験（プロフェッショナル・コーディネータ）](http://www.iotcert.org/wp-content/uploads/2018/11/bf417de4edf5e47e03e1fd8d8f966117.pdf)  \n",
    "  \n",
    "[【2019年後期】AI関連資格おすすめ6選｜取得メリットも紹介](https://ainow.ai/2019/07/24/173534/)  \n"
   ]
  },
  {
   "cell_type": "markdown",
   "metadata": {},
   "source": [
    "## 戦略とマネージメント"
   ]
  },
  {
   "cell_type": "markdown",
   "metadata": {},
   "source": [
    "  \n",
    "\n",
    "とにかく良く知らない言葉と書き出していく。  \n",
    "  \n",
    "スマート工場  \n",
    "  \n",
    "第４次産業革命  \n",
    "[第四次産業革命 - Wikipedia](https://ja.wikipedia.org/wiki/第四次産業革命)  \n",
    "  \n",
    "「日本再興戦略2016−第４次産業革命に向けて−」  \n",
    "[第1節 第4次産業革命のインパクト - 内閣府](https://www5.cao.go.jp/keizai3/2016/0117nk/n16_2_1.html)   \n",
    "  \n",
    "\n",
    "リーン思考  \n",
    "  \n",
    "かんばん方式  \n",
    "  \n",
    "IoTプロジェクトの実施順序  \n",
    "  \n",
    "ヘッドマウントディスプレイ(HMD)  \n",
    "[ヘッドマウントディスプレイ - Wikipedia](https://ja.wikipedia.org/wiki/ヘッドマウントディスプレイ)  \n",
    "[最新テクノロジー【2019年版】ヘッドマウントディスプレイ(HMD)のおすすめ9選。VR対応も](https://sakidori.co/article/83417)  \n",
    "  \n",
    "\n",
    "マイケル・ポーター氏  \n",
    "[マイケル・ポーター - Wikipedia](https://ja.wikipedia.org/wiki/マイケル・ポーター)  \n",
    "[マイケル・ポーターの競争戦略類型:3つの基本戦略](https://cyber-synapse.com/dictionary/ja-ha/porters-generic-strategies.html)  \n",
    "  \n",
    "[ファイブフォース分析](https://ja.wikipedia.org/wiki/ファイブフォース分析)  \n",
    "[バリュー・チェーン](https://ja.wikipedia.org/wiki/バリュー・チェーン)  \n",
    "  \n",
    "  \n",
    "IoT時代の競争戦略  \n",
    "[製造業に襲い掛かる第3次IT革命の波 (1/3) - MONOist](https://monoist.atmarkit.co.jp/mn/articles/1504/09/news041.html)    \n",
    "[マイケル・ポーター教授が語るIoT競争戦略、そこになぜ「ヒト」が必要なのか](https://www.sbbit.jp/article/cont1/32979)  \n",
    "  \n",
    "CMMI  \n",
    "[能力成熟度モデル統合 - Wikipedia](https://ja.wikipedia.org/wiki/能力成熟度モデル統合)    \n",
    "[CMMIとは何か？-組織成熟度](https://www.compita-japan.com/kaisetsu/what-cmmi-2.html)    \n",
    "[CMMIとは - IT用語辞典 e-Words](http://e-words.jp/w/CMMI.html)  \n",
    "  \n",
    "ブルー・オーシャン戦略  \n",
    "[ブルー・オーシャン戦略 - Wikipedia](https://ja.wikipedia.org/wiki/ブルー・オーシャン戦略)  \n",
    "[3分でわかる『ブルー・オーシャン戦略』「『差別化』と『低コスト』で新しい市場を切り拓く」](https://diamond.jp/articles/-/58186?page=2)  \n",
    "[ブルーオーシャン戦略とは | 用語解説・事例紹介](https://boxil.jp/mag/a2996/)  \n",
    "  \n",
    "成長戦略  \n",
    "  \n",
    "成長マトリックス  \n",
    "  \n",
    "クレイトン・クリステンセン氏  \n",
    "  \n",
    "イノベーションのジレンマ  \n",
    "  \n",
    "QC7つ道具  \n",
    "  \n",
    "企業連携について  \n",
    "垂直統合  \n",
    "垂直分業  \n",
    "水平統合  \n",
    "水平分業  \n",
    "  \n",
    "  \n",
    "購入型クラウドファンディング  \n",
    "  "
   ]
  },
  {
   "cell_type": "code",
   "execution_count": null,
   "metadata": {},
   "outputs": [],
   "source": []
  },
  {
   "cell_type": "code",
   "execution_count": null,
   "metadata": {},
   "outputs": [],
   "source": []
  },
  {
   "cell_type": "code",
   "execution_count": null,
   "metadata": {},
   "outputs": [],
   "source": []
  },
  {
   "cell_type": "code",
   "execution_count": null,
   "metadata": {},
   "outputs": [],
   "source": []
  },
  {
   "cell_type": "code",
   "execution_count": null,
   "metadata": {},
   "outputs": [],
   "source": []
  }
 ],
 "metadata": {
  "kernelspec": {
   "display_name": "Python 3",
   "language": "python",
   "name": "python3"
  },
  "language_info": {
   "codemirror_mode": {
    "name": "ipython",
    "version": 3
   },
   "file_extension": ".py",
   "mimetype": "text/x-python",
   "name": "python",
   "nbconvert_exporter": "python",
   "pygments_lexer": "ipython3",
   "version": "3.7.3"
  }
 },
 "nbformat": 4,
 "nbformat_minor": 2
}
